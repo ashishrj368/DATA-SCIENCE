{
 "cells": [
  {
   "cell_type": "code",
   "execution_count": 5,
   "id": "728833da-ce71-488a-9809-39eff08b47c2",
   "metadata": {},
   "outputs": [
    {
     "data": {
      "text/plain": [
       "Name      [John Doe, Mary Re, Harley]\n",
       "Gender                      [1, 2, 3]\n",
       "Age                      [80, 38, 20]\n",
       "Height         [166.2, 150.2, 148.57]\n",
       "weight               [62.3, 52.5, 70]\n",
       "dtype: object"
      ]
     },
     "execution_count": 5,
     "metadata": {},
     "output_type": "execute_result"
    }
   ],
   "source": [
    "# import pandas as pd\n",
    "# data={'Name':['John Doe','Mary Re','Harley'],\n",
    "#                 'Gender':[1,2,3],\n",
    "#                  'Age':[80,38,20],\n",
    "#                  'Height':[166.2,150.2,148.57],\n",
    "#                  'weight':[62.3,52.5,70]}\n",
    "# df=pd.Series(data)\n",
    "# df"
   ]
  },
  {
   "cell_type": "code",
   "execution_count": 3,
   "id": "bd480fed-082d-48aa-9658-0db37cd560c1",
   "metadata": {},
   "outputs": [
    {
     "data": {
      "text/plain": [
       "name      [John Doe, Mary Re, Harley Me]\n",
       "gender                         [1, 2, 0]\n",
       "age                         [80, 38, 12]\n",
       "height             [161.0, 173.5, 180.5]\n",
       "weight                [62.3, 55.7, 80.0]\n",
       "dtype: object"
      ]
     },
     "execution_count": 3,
     "metadata": {},
     "output_type": "execute_result"
    }
   ],
   "source": [
    "import pandas as pd\n",
    "df = pd.Series({'name':['John Doe', 'Mary Re', 'Harley Me'],\n",
    "                   'gender':[1,2,0],\n",
    "                   'age':[80, 38, 12],\n",
    "                   'height': [161.0, 173.5, 180.5],\n",
    "                   'weight': [62.3, 55.7, 80.0]\n",
    "                   })\n",
    "df"
   ]
  },
  {
   "cell_type": "code",
   "execution_count": 4,
   "id": "304f513b-5180-4162-b287-71b99eeb8218",
   "metadata": {},
   "outputs": [
    {
     "ename": "AttributeError",
     "evalue": "'list' object has no attribute 'map'",
     "output_type": "error",
     "traceback": [
      "\u001b[1;31m---------------------------------------------------------------------------\u001b[0m",
      "\u001b[1;31mAttributeError\u001b[0m                            Traceback (most recent call last)",
      "Cell \u001b[1;32mIn[4], line 2\u001b[0m\n\u001b[0;32m      1\u001b[0m gender_map \u001b[38;5;241m=\u001b[39m {\u001b[38;5;241m0\u001b[39m: \u001b[38;5;124m'\u001b[39m\u001b[38;5;124mUnknown\u001b[39m\u001b[38;5;124m'\u001b[39m, \u001b[38;5;241m1\u001b[39m:\u001b[38;5;124m'\u001b[39m\u001b[38;5;124mMale\u001b[39m\u001b[38;5;124m'\u001b[39m, \u001b[38;5;241m2\u001b[39m:\u001b[38;5;124m'\u001b[39m\u001b[38;5;124mFemale\u001b[39m\u001b[38;5;124m'\u001b[39m}\n\u001b[1;32m----> 2\u001b[0m df[\u001b[38;5;124m'\u001b[39m\u001b[38;5;124mgender\u001b[39m\u001b[38;5;124m'\u001b[39m] \u001b[38;5;241m=\u001b[39m df[\u001b[38;5;124m'\u001b[39m\u001b[38;5;124mgender\u001b[39m\u001b[38;5;124m'\u001b[39m]\u001b[38;5;241m.\u001b[39mmap(gender_map)\n",
      "\u001b[1;31mAttributeError\u001b[0m: 'list' object has no attribute 'map'"
     ]
    }
   ],
   "source": [
    "gender_map = {0: 'Unknown', 1:'Male', 2:'Female'}\n",
    "df['gender'] = df['gender'].map(gender_map)"
   ]
  },
  {
   "cell_type": "code",
   "execution_count": null,
   "id": "080da44a-a76d-4b6c-973d-09fd717824da",
   "metadata": {},
   "outputs": [],
   "source": []
  }
 ],
 "metadata": {
  "kernelspec": {
   "display_name": "Python 3 (ipykernel)",
   "language": "python",
   "name": "python3"
  },
  "language_info": {
   "codemirror_mode": {
    "name": "ipython",
    "version": 3
   },
   "file_extension": ".py",
   "mimetype": "text/x-python",
   "name": "python",
   "nbconvert_exporter": "python",
   "pygments_lexer": "ipython3",
   "version": "3.12.7"
  }
 },
 "nbformat": 4,
 "nbformat_minor": 5
}
