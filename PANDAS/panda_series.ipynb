{
 "cells": [
  {
   "cell_type": "code",
   "execution_count": 3,
   "id": "8e53a49b-b76f-48ad-af1a-396c6e66fdad",
   "metadata": {},
   "outputs": [
    {
     "name": "stdout",
     "output_type": "stream",
     "text": [
      "0    1\n",
      "1    2\n",
      "2    3\n",
      "dtype: int64\n"
     ]
    }
   ],
   "source": [
    "import pandas as pd\n",
    "a=[1,2,3]\n",
    "num=pd.Series(a)\n",
    "print(num)"
   ]
  },
  {
   "cell_type": "code",
   "execution_count": 7,
   "id": "31e5ea30-7f09-4181-8ded-a989038f83e9",
   "metadata": {},
   "outputs": [
    {
     "data": {
      "text/plain": [
       "0     ashi\n",
       "1     arif\n",
       "2    anila\n",
       "3     jiji\n",
       "dtype: object"
      ]
     },
     "execution_count": 7,
     "metadata": {},
     "output_type": "execute_result"
    }
   ],
   "source": [
    "import pandas as pd\n",
    "b=('ashi','arif','anila','jiji')\n",
    "name=pd.Series(b)\n",
    "name\n",
    "   "
   ]
  },
  {
   "cell_type": "code",
   "execution_count": 9,
   "id": "a5a76590-ee86-4dd8-b3bc-0cbe3001abb7",
   "metadata": {},
   "outputs": [
    {
     "data": {
      "text/plain": [
       "day1    140\n",
       "day2    120\n",
       "day3    100\n",
       "dtype: int64"
      ]
     },
     "execution_count": 9,
     "metadata": {},
     "output_type": "execute_result"
    }
   ],
   "source": [
    "import pandas as pd\n",
    "x={'day1':140,'day2':120,'day3':100}\n",
    "x1=pd.Series(x)\n",
    "x1"
   ]
  },
  {
   "cell_type": "code",
   "execution_count": null,
   "id": "5f029ecd-a18a-4a5f-b943-f85aa4f1cd77",
   "metadata": {},
   "outputs": [],
   "source": []
  }
 ],
 "metadata": {
  "kernelspec": {
   "display_name": "Python 3 (ipykernel)",
   "language": "python",
   "name": "python3"
  },
  "language_info": {
   "codemirror_mode": {
    "name": "ipython",
    "version": 3
   },
   "file_extension": ".py",
   "mimetype": "text/x-python",
   "name": "python",
   "nbconvert_exporter": "python",
   "pygments_lexer": "ipython3",
   "version": "3.12.7"
  }
 },
 "nbformat": 4,
 "nbformat_minor": 5
}
