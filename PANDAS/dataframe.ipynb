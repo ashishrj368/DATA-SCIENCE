{
 "cells": [
  {
   "cell_type": "code",
   "execution_count": 3,
   "id": "7d41350f-549b-42bb-9826-9c7ea4dbf2dc",
   "metadata": {},
   "outputs": [
    {
     "name": "stdout",
     "output_type": "stream",
     "text": [
      "   subject  mark\n",
      "0    maths    50\n",
      "1  english    30\n",
      "2    hindi    45\n"
     ]
    }
   ],
   "source": [
    "import pandas as pd\n",
    "score={'subject':('maths','english','hindi'),\n",
    "'mark':[50,30,45]}\n",
    "josutty=pd.DataFrame(score)\n",
    "print(josutty)"
   ]
  },
  {
   "cell_type": "code",
   "execution_count": 4,
   "id": "98737fd1-fbcc-4b23-96a8-21fc860b3e23",
   "metadata": {},
   "outputs": [
    {
     "name": "stdout",
     "output_type": "stream",
     "text": [
      "subject    maths\n",
      "mark          50\n",
      "Name: 0, dtype: object\n"
     ]
    }
   ],
   "source": [
    "# locate row\n",
    "import pandas as pd\n",
    "score={'subject':('maths','english','hindi'),\n",
    "'mark':[50,30,45]}\n",
    "josutty=pd.DataFrame(score)\n",
    "print(josutty.loc[0])\n",
    "\n"
   ]
  },
  {
   "cell_type": "code",
   "execution_count": 5,
   "id": "28f3fa42-ba6a-4cf5-bc39-040df7ee1fc5",
   "metadata": {},
   "outputs": [
    {
     "name": "stdout",
     "output_type": "stream",
     "text": [
      "subject    english\n",
      "mark            30\n",
      "Name: 1, dtype: object\n"
     ]
    }
   ],
   "source": [
    "import pandas as pd\n",
    "score={'subject':('maths','english','hindi'),\n",
    "'mark':[50,30,45]}\n",
    "josutty=pd.DataFrame(score)\n",
    "print(josutty.loc[1])"
   ]
  },
  {
   "cell_type": "code",
   "execution_count": null,
   "id": "842cf82f-b02a-42fd-9c67-83f1fb382ae7",
   "metadata": {},
   "outputs": [],
   "source": []
  }
 ],
 "metadata": {
  "kernelspec": {
   "display_name": "Python 3 (ipykernel)",
   "language": "python",
   "name": "python3"
  },
  "language_info": {
   "codemirror_mode": {
    "name": "ipython",
    "version": 3
   },
   "file_extension": ".py",
   "mimetype": "text/x-python",
   "name": "python",
   "nbconvert_exporter": "python",
   "pygments_lexer": "ipython3",
   "version": "3.12.7"
  }
 },
 "nbformat": 4,
 "nbformat_minor": 5
}
